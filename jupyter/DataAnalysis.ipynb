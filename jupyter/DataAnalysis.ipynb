{
 "cells": [
  {
   "cell_type": "code",
   "execution_count": 1,
   "id": "c25de3d9",
   "metadata": {},
   "outputs": [],
   "source": [
    "import pandas as pd\n",
    "import numpy as np"
   ]
  },
  {
   "cell_type": "code",
   "execution_count": 6,
   "id": "e2072e42",
   "metadata": {},
   "outputs": [
    {
     "data": {
      "text/plain": [
       "RangeIndex(start=0, stop=8807, step=1)"
      ]
     },
     "execution_count": 6,
     "metadata": {},
     "output_type": "execute_result"
    }
   ],
   "source": [
    "_netflix_data_csv = pd.read_csv('../netflix_titles_2021.csv')\n"
   ]
  },
  {
   "cell_type": "code",
   "execution_count": 7,
   "id": "d0afc9ac",
   "metadata": {},
   "outputs": [
    {
     "data": {
      "text/plain": [
       "Index(['show_id', 'type', 'title', 'director', 'cast', 'country', 'date_added',\n",
       "       'release_year', 'rating', 'duration', 'listed_in', 'description'],\n",
       "      dtype='object')"
      ]
     },
     "execution_count": 7,
     "metadata": {},
     "output_type": "execute_result"
    }
   ],
   "source": [
    "# Columns of csv file\n",
    "_netflix_data_csv.columns"
   ]
  },
  {
   "cell_type": "code",
   "execution_count": 9,
   "id": "559b4cac",
   "metadata": {},
   "outputs": [
    {
     "data": {
      "text/plain": [
       "[RangeIndex(start=0, stop=8807, step=1),\n",
       " Index(['show_id', 'type', 'title', 'director', 'cast', 'country', 'date_added',\n",
       "        'release_year', 'rating', 'duration', 'listed_in', 'description'],\n",
       "       dtype='object')]"
      ]
     },
     "execution_count": 9,
     "metadata": {},
     "output_type": "execute_result"
    }
   ],
   "source": [
    "# Return the list representation of axes\n",
    "_netflix_data_csv.axes"
   ]
  },
  {
   "cell_type": "code",
   "execution_count": 12,
   "id": "2b946ae5",
   "metadata": {},
   "outputs": [],
   "source": [
    "# Return a Numpy representation of the DataFrame\n",
    "_netflix_data_csv.values[0]"
   ]
  },
  {
   "cell_type": "code",
   "execution_count": 14,
   "id": "82384899",
   "metadata": {},
   "outputs": [
    {
     "data": {
      "text/plain": [
       "2"
      ]
     },
     "execution_count": 14,
     "metadata": {},
     "output_type": "execute_result"
    }
   ],
   "source": [
    "_netflix_data_csv.ndim"
   ]
  },
  {
   "cell_type": "code",
   "execution_count": 15,
   "id": "99491bf1",
   "metadata": {},
   "outputs": [
    {
     "data": {
      "text/plain": [
       "105684"
      ]
     },
     "execution_count": 15,
     "metadata": {},
     "output_type": "execute_result"
    }
   ],
   "source": [
    "_netflix_data_csv.size"
   ]
  },
  {
   "cell_type": "code",
   "execution_count": 16,
   "id": "a9b2a397",
   "metadata": {},
   "outputs": [
    {
     "data": {
      "text/plain": [
       "(8807, 12)"
      ]
     },
     "execution_count": 16,
     "metadata": {},
     "output_type": "execute_result"
    }
   ],
   "source": [
    "_netflix_data_csv.shape"
   ]
  },
  {
   "cell_type": "code",
   "execution_count": 18,
   "id": "14bbada7",
   "metadata": {},
   "outputs": [
    {
     "data": {
      "text/plain": [
       "False"
      ]
     },
     "execution_count": 18,
     "metadata": {},
     "output_type": "execute_result"
    }
   ],
   "source": [
    "# Check whether dataframe is empty or not\n",
    "_netflix_data_csv.empty"
   ]
  },
  {
   "cell_type": "code",
   "execution_count": 23,
   "id": "b8e25ae4",
   "metadata": {},
   "outputs": [],
   "source": [
    "# Return the first n number of rows\n",
    "_netflix_data_csv.head(2)"
   ]
  },
  {
   "cell_type": "code",
   "execution_count": 33,
   "id": "57a1535b",
   "metadata": {},
   "outputs": [
    {
     "data": {
      "text/html": [
       "<div>\n",
       "<style scoped>\n",
       "    .dataframe tbody tr th:only-of-type {\n",
       "        vertical-align: middle;\n",
       "    }\n",
       "\n",
       "    .dataframe tbody tr th {\n",
       "        vertical-align: top;\n",
       "    }\n",
       "\n",
       "    .dataframe thead th {\n",
       "        text-align: right;\n",
       "    }\n",
       "</style>\n",
       "<table border=\"1\" class=\"dataframe\">\n",
       "  <thead>\n",
       "    <tr style=\"text-align: right;\">\n",
       "      <th></th>\n",
       "      <th>show_id</th>\n",
       "      <th>type</th>\n",
       "      <th>title</th>\n",
       "      <th>director</th>\n",
       "      <th>cast</th>\n",
       "      <th>country</th>\n",
       "      <th>date_added</th>\n",
       "      <th>release_year</th>\n",
       "      <th>rating</th>\n",
       "      <th>duration</th>\n",
       "      <th>listed_in</th>\n",
       "      <th>description</th>\n",
       "    </tr>\n",
       "  </thead>\n",
       "  <tbody>\n",
       "    <tr>\n",
       "      <th>8805</th>\n",
       "      <td>s8806</td>\n",
       "      <td>Movie</td>\n",
       "      <td>Zoom</td>\n",
       "      <td>Peter Hewitt</td>\n",
       "      <td>Tim Allen, Courteney Cox, Chevy Chase, Kate Ma...</td>\n",
       "      <td>United States</td>\n",
       "      <td>January 11, 2020</td>\n",
       "      <td>2006</td>\n",
       "      <td>PG</td>\n",
       "      <td>88 min</td>\n",
       "      <td>Children &amp; Family Movies, Comedies</td>\n",
       "      <td>Dragged from civilian life, a former superhero...</td>\n",
       "    </tr>\n",
       "    <tr>\n",
       "      <th>8806</th>\n",
       "      <td>s8807</td>\n",
       "      <td>Movie</td>\n",
       "      <td>Zubaan</td>\n",
       "      <td>Mozez Singh</td>\n",
       "      <td>Vicky Kaushal, Sarah-Jane Dias, Raaghav Chanan...</td>\n",
       "      <td>India</td>\n",
       "      <td>March 2, 2019</td>\n",
       "      <td>2015</td>\n",
       "      <td>TV-14</td>\n",
       "      <td>111 min</td>\n",
       "      <td>Dramas, International Movies, Music &amp; Musicals</td>\n",
       "      <td>A scrappy but poor boy worms his way into a ty...</td>\n",
       "    </tr>\n",
       "  </tbody>\n",
       "</table>\n",
       "</div>"
      ],
      "text/plain": [
       "     show_id   type   title      director  \\\n",
       "8805   s8806  Movie    Zoom  Peter Hewitt   \n",
       "8806   s8807  Movie  Zubaan   Mozez Singh   \n",
       "\n",
       "                                                   cast        country  \\\n",
       "8805  Tim Allen, Courteney Cox, Chevy Chase, Kate Ma...  United States   \n",
       "8806  Vicky Kaushal, Sarah-Jane Dias, Raaghav Chanan...          India   \n",
       "\n",
       "            date_added  release_year rating duration  \\\n",
       "8805  January 11, 2020          2006     PG   88 min   \n",
       "8806     March 2, 2019          2015  TV-14  111 min   \n",
       "\n",
       "                                           listed_in  \\\n",
       "8805              Children & Family Movies, Comedies   \n",
       "8806  Dramas, International Movies, Music & Musicals   \n",
       "\n",
       "                                            description  \n",
       "8805  Dragged from civilian life, a former superhero...  \n",
       "8806  A scrappy but poor boy worms his way into a ty...  "
      ]
     },
     "execution_count": 33,
     "metadata": {},
     "output_type": "execute_result"
    }
   ],
   "source": [
    "# Return the last n number of rows\n",
    "_netflix_data_csv.tail(2)"
   ]
  },
  {
   "cell_type": "code",
   "execution_count": 34,
   "id": "a1901786",
   "metadata": {},
   "outputs": [
    {
     "data": {
      "text/html": [
       "<div>\n",
       "<style scoped>\n",
       "    .dataframe tbody tr th:only-of-type {\n",
       "        vertical-align: middle;\n",
       "    }\n",
       "\n",
       "    .dataframe tbody tr th {\n",
       "        vertical-align: top;\n",
       "    }\n",
       "\n",
       "    .dataframe thead th {\n",
       "        text-align: right;\n",
       "    }\n",
       "</style>\n",
       "<table border=\"1\" class=\"dataframe\">\n",
       "  <thead>\n",
       "    <tr style=\"text-align: right;\">\n",
       "      <th></th>\n",
       "      <th>show_id</th>\n",
       "      <th>type</th>\n",
       "      <th>title</th>\n",
       "      <th>director</th>\n",
       "      <th>cast</th>\n",
       "      <th>country</th>\n",
       "      <th>date_added</th>\n",
       "      <th>release_year</th>\n",
       "      <th>rating</th>\n",
       "      <th>duration</th>\n",
       "      <th>listed_in</th>\n",
       "      <th>description</th>\n",
       "    </tr>\n",
       "  </thead>\n",
       "  <tbody>\n",
       "    <tr>\n",
       "      <th>1</th>\n",
       "      <td>s2</td>\n",
       "      <td>TV Show</td>\n",
       "      <td>Blood &amp; Water</td>\n",
       "      <td>NaN</td>\n",
       "      <td>Ama Qamata, Khosi Ngema, Gail Mabalane, Thaban...</td>\n",
       "      <td>South Africa</td>\n",
       "      <td>September 24, 2021</td>\n",
       "      <td>2021</td>\n",
       "      <td>TV-MA</td>\n",
       "      <td>2 Seasons</td>\n",
       "      <td>International TV Shows, TV Dramas, TV Mysteries</td>\n",
       "      <td>After crossing paths at a party, a Cape Town t...</td>\n",
       "    </tr>\n",
       "    <tr>\n",
       "      <th>2</th>\n",
       "      <td>s3</td>\n",
       "      <td>TV Show</td>\n",
       "      <td>Ganglands</td>\n",
       "      <td>Julien Leclercq</td>\n",
       "      <td>Sami Bouajila, Tracy Gotoas, Samuel Jouy, Nabi...</td>\n",
       "      <td>NaN</td>\n",
       "      <td>September 24, 2021</td>\n",
       "      <td>2021</td>\n",
       "      <td>TV-MA</td>\n",
       "      <td>1 Season</td>\n",
       "      <td>Crime TV Shows, International TV Shows, TV Act...</td>\n",
       "      <td>To protect his family from a powerful drug lor...</td>\n",
       "    </tr>\n",
       "    <tr>\n",
       "      <th>3</th>\n",
       "      <td>s4</td>\n",
       "      <td>TV Show</td>\n",
       "      <td>Jailbirds New Orleans</td>\n",
       "      <td>NaN</td>\n",
       "      <td>NaN</td>\n",
       "      <td>NaN</td>\n",
       "      <td>September 24, 2021</td>\n",
       "      <td>2021</td>\n",
       "      <td>TV-MA</td>\n",
       "      <td>1 Season</td>\n",
       "      <td>Docuseries, Reality TV</td>\n",
       "      <td>Feuds, flirtations and toilet talk go down amo...</td>\n",
       "    </tr>\n",
       "    <tr>\n",
       "      <th>4</th>\n",
       "      <td>s5</td>\n",
       "      <td>TV Show</td>\n",
       "      <td>Kota Factory</td>\n",
       "      <td>NaN</td>\n",
       "      <td>Mayur More, Jitendra Kumar, Ranjan Raj, Alam K...</td>\n",
       "      <td>India</td>\n",
       "      <td>September 24, 2021</td>\n",
       "      <td>2021</td>\n",
       "      <td>TV-MA</td>\n",
       "      <td>2 Seasons</td>\n",
       "      <td>International TV Shows, Romantic TV Shows, TV ...</td>\n",
       "      <td>In a city of coaching centers known to train I...</td>\n",
       "    </tr>\n",
       "    <tr>\n",
       "      <th>5</th>\n",
       "      <td>s6</td>\n",
       "      <td>TV Show</td>\n",
       "      <td>Midnight Mass</td>\n",
       "      <td>Mike Flanagan</td>\n",
       "      <td>Kate Siegel, Zach Gilford, Hamish Linklater, H...</td>\n",
       "      <td>NaN</td>\n",
       "      <td>September 24, 2021</td>\n",
       "      <td>2021</td>\n",
       "      <td>TV-MA</td>\n",
       "      <td>1 Season</td>\n",
       "      <td>TV Dramas, TV Horror, TV Mysteries</td>\n",
       "      <td>The arrival of a charismatic young priest brin...</td>\n",
       "    </tr>\n",
       "    <tr>\n",
       "      <th>...</th>\n",
       "      <td>...</td>\n",
       "      <td>...</td>\n",
       "      <td>...</td>\n",
       "      <td>...</td>\n",
       "      <td>...</td>\n",
       "      <td>...</td>\n",
       "      <td>...</td>\n",
       "      <td>...</td>\n",
       "      <td>...</td>\n",
       "      <td>...</td>\n",
       "      <td>...</td>\n",
       "      <td>...</td>\n",
       "    </tr>\n",
       "    <tr>\n",
       "      <th>1468</th>\n",
       "      <td>s1469</td>\n",
       "      <td>Movie</td>\n",
       "      <td>What Happened to Mr. Cha?</td>\n",
       "      <td>Kim Dong-kyu</td>\n",
       "      <td>Cha In-pyo, Cho Dal-hwan, Song Jae-ryong</td>\n",
       "      <td>South Korea</td>\n",
       "      <td>January 1, 2021</td>\n",
       "      <td>2021</td>\n",
       "      <td>TV-MA</td>\n",
       "      <td>102 min</td>\n",
       "      <td>Comedies, International Movies</td>\n",
       "      <td>With the peak of his career long behind him, a...</td>\n",
       "    </tr>\n",
       "    <tr>\n",
       "      <th>1551</th>\n",
       "      <td>s1552</td>\n",
       "      <td>TV Show</td>\n",
       "      <td>Hilda</td>\n",
       "      <td>NaN</td>\n",
       "      <td>Bella Ramsey, Ameerah Falzon-Ojo, Oliver Nelso...</td>\n",
       "      <td>United Kingdom, Canada, United States</td>\n",
       "      <td>December 14, 2020</td>\n",
       "      <td>2021</td>\n",
       "      <td>TV-Y7</td>\n",
       "      <td>2 Seasons</td>\n",
       "      <td>Kids' TV</td>\n",
       "      <td>Fearless, free-spirited Hilda finds new friend...</td>\n",
       "    </tr>\n",
       "    <tr>\n",
       "      <th>1696</th>\n",
       "      <td>s1697</td>\n",
       "      <td>TV Show</td>\n",
       "      <td>Polly Pocket</td>\n",
       "      <td>NaN</td>\n",
       "      <td>Emily Tennant, Shannon Chan-Kent, Kazumi Evans...</td>\n",
       "      <td>Canada, United States, Ireland</td>\n",
       "      <td>November 15, 2020</td>\n",
       "      <td>2021</td>\n",
       "      <td>TV-Y</td>\n",
       "      <td>2 Seasons</td>\n",
       "      <td>Kids' TV</td>\n",
       "      <td>After uncovering a magical locket that allows ...</td>\n",
       "    </tr>\n",
       "    <tr>\n",
       "      <th>2920</th>\n",
       "      <td>s2921</td>\n",
       "      <td>TV Show</td>\n",
       "      <td>Love Is Blind</td>\n",
       "      <td>NaN</td>\n",
       "      <td>Nick Lachey, Vanessa Lachey</td>\n",
       "      <td>United States</td>\n",
       "      <td>February 13, 2020</td>\n",
       "      <td>2021</td>\n",
       "      <td>TV-MA</td>\n",
       "      <td>1 Season</td>\n",
       "      <td>Reality TV, Romantic TV Shows</td>\n",
       "      <td>Nick and Vanessa Lachey host this social exper...</td>\n",
       "    </tr>\n",
       "    <tr>\n",
       "      <th>8437</th>\n",
       "      <td>s8438</td>\n",
       "      <td>TV Show</td>\n",
       "      <td>The Netflix Afterparty</td>\n",
       "      <td>NaN</td>\n",
       "      <td>David Spade, London Hughes, Fortune Feimster</td>\n",
       "      <td>United States</td>\n",
       "      <td>January 2, 2021</td>\n",
       "      <td>2021</td>\n",
       "      <td>TV-MA</td>\n",
       "      <td>1 Season</td>\n",
       "      <td>Stand-Up Comedy &amp; Talk Shows, TV Comedies</td>\n",
       "      <td>Hosts David Spade, Fortune Feimster and London...</td>\n",
       "    </tr>\n",
       "  </tbody>\n",
       "</table>\n",
       "<p>592 rows × 12 columns</p>\n",
       "</div>"
      ],
      "text/plain": [
       "     show_id     type                      title         director  \\\n",
       "1         s2  TV Show              Blood & Water              NaN   \n",
       "2         s3  TV Show                  Ganglands  Julien Leclercq   \n",
       "3         s4  TV Show      Jailbirds New Orleans              NaN   \n",
       "4         s5  TV Show               Kota Factory              NaN   \n",
       "5         s6  TV Show              Midnight Mass    Mike Flanagan   \n",
       "...      ...      ...                        ...              ...   \n",
       "1468   s1469    Movie  What Happened to Mr. Cha?     Kim Dong-kyu   \n",
       "1551   s1552  TV Show                      Hilda              NaN   \n",
       "1696   s1697  TV Show               Polly Pocket              NaN   \n",
       "2920   s2921  TV Show              Love Is Blind              NaN   \n",
       "8437   s8438  TV Show     The Netflix Afterparty              NaN   \n",
       "\n",
       "                                                   cast  \\\n",
       "1     Ama Qamata, Khosi Ngema, Gail Mabalane, Thaban...   \n",
       "2     Sami Bouajila, Tracy Gotoas, Samuel Jouy, Nabi...   \n",
       "3                                                   NaN   \n",
       "4     Mayur More, Jitendra Kumar, Ranjan Raj, Alam K...   \n",
       "5     Kate Siegel, Zach Gilford, Hamish Linklater, H...   \n",
       "...                                                 ...   \n",
       "1468           Cha In-pyo, Cho Dal-hwan, Song Jae-ryong   \n",
       "1551  Bella Ramsey, Ameerah Falzon-Ojo, Oliver Nelso...   \n",
       "1696  Emily Tennant, Shannon Chan-Kent, Kazumi Evans...   \n",
       "2920                        Nick Lachey, Vanessa Lachey   \n",
       "8437       David Spade, London Hughes, Fortune Feimster   \n",
       "\n",
       "                                    country          date_added  release_year  \\\n",
       "1                              South Africa  September 24, 2021          2021   \n",
       "2                                       NaN  September 24, 2021          2021   \n",
       "3                                       NaN  September 24, 2021          2021   \n",
       "4                                     India  September 24, 2021          2021   \n",
       "5                                       NaN  September 24, 2021          2021   \n",
       "...                                     ...                 ...           ...   \n",
       "1468                            South Korea     January 1, 2021          2021   \n",
       "1551  United Kingdom, Canada, United States   December 14, 2020          2021   \n",
       "1696         Canada, United States, Ireland   November 15, 2020          2021   \n",
       "2920                          United States   February 13, 2020          2021   \n",
       "8437                          United States     January 2, 2021          2021   \n",
       "\n",
       "     rating   duration                                          listed_in  \\\n",
       "1     TV-MA  2 Seasons    International TV Shows, TV Dramas, TV Mysteries   \n",
       "2     TV-MA   1 Season  Crime TV Shows, International TV Shows, TV Act...   \n",
       "3     TV-MA   1 Season                             Docuseries, Reality TV   \n",
       "4     TV-MA  2 Seasons  International TV Shows, Romantic TV Shows, TV ...   \n",
       "5     TV-MA   1 Season                 TV Dramas, TV Horror, TV Mysteries   \n",
       "...     ...        ...                                                ...   \n",
       "1468  TV-MA    102 min                     Comedies, International Movies   \n",
       "1551  TV-Y7  2 Seasons                                           Kids' TV   \n",
       "1696   TV-Y  2 Seasons                                           Kids' TV   \n",
       "2920  TV-MA   1 Season                      Reality TV, Romantic TV Shows   \n",
       "8437  TV-MA   1 Season          Stand-Up Comedy & Talk Shows, TV Comedies   \n",
       "\n",
       "                                            description  \n",
       "1     After crossing paths at a party, a Cape Town t...  \n",
       "2     To protect his family from a powerful drug lor...  \n",
       "3     Feuds, flirtations and toilet talk go down amo...  \n",
       "4     In a city of coaching centers known to train I...  \n",
       "5     The arrival of a charismatic young priest brin...  \n",
       "...                                                 ...  \n",
       "1468  With the peak of his career long behind him, a...  \n",
       "1551  Fearless, free-spirited Hilda finds new friend...  \n",
       "1696  After uncovering a magical locket that allows ...  \n",
       "2920  Nick and Vanessa Lachey host this social exper...  \n",
       "8437  Hosts David Spade, Fortune Feimster and London...  \n",
       "\n",
       "[592 rows x 12 columns]"
      ]
     },
     "execution_count": 34,
     "metadata": {},
     "output_type": "execute_result"
    }
   ],
   "source": [
    "# Evaluate the query on column with boolean expression\n",
    "_netflix_data_csv.query('release_year > 2020')"
   ]
  }
 ],
 "metadata": {
  "kernelspec": {
   "display_name": "Python 3 (ipykernel)",
   "language": "python",
   "name": "python3"
  },
  "language_info": {
   "codemirror_mode": {
    "name": "ipython",
    "version": 3
   },
   "file_extension": ".py",
   "mimetype": "text/x-python",
   "name": "python",
   "nbconvert_exporter": "python",
   "pygments_lexer": "ipython3",
   "version": "3.9.7"
  }
 },
 "nbformat": 4,
 "nbformat_minor": 5
}
